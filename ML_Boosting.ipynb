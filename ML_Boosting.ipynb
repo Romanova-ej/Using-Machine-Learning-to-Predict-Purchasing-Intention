{
 "cells": [
  {
   "cell_type": "code",
   "execution_count": 1,
   "metadata": {},
   "outputs": [],
   "source": [
    "import pandas as pd\n",
    "import numpy as np\n",
    "import random\n",
    "import warnings \n",
    "warnings.filterwarnings('ignore')\n",
    "from sklearn.model_selection import train_test_split,learning_curve\n",
    "from sklearn import metrics, ensemble\n",
    "import matplotlib.pyplot as plt\n",
    "import statistics\n",
    "from sklearn.metrics import confusion_matrix\n",
    "import xgboost as xgb\n",
    "from sklearn.metrics import accuracy_score\n",
    "from sklearn.model_selection import cross_val_score, GridSearchCV, cross_validate, StratifiedShuffleSplit \n",
    "from sklearn.metrics import classification_report\n",
    "from sklearn.utils.validation import column_or_1d"
   ]
  },
  {
   "cell_type": "markdown",
   "metadata": {},
   "source": [
    "Бустинг представляет собой жадный алгоритм построения композиции алгоритмов. Основная идея заключается в том, чтобы, имея множество относительно слабых алгоритмов обучения, построить их хорошую линейную комбинацию."
   ]
  },
  {
   "cell_type": "markdown",
   "metadata": {},
   "source": [
    "* $X$ — множество объектов, $Y$ — множество ответов;\n",
    "* $X^n = (x_i, y_i)_{i=1}^{n}$ — обучающая выборка, $x_i \\in \\mathbb{R}^p$, $y_{i}=y(x_{i})$, $y:X\\to Y$;\n",
    "* $(x^1,\\ldots,x^p)$ — признаки объекта $x \\in X$;  \n",
    "\n",
    "**Композиция базовых алгоритмов** $b_{1},\\ldots,b_{T}$:\n",
    "\\begin{equation*}\n",
    "a(x)=C(F(b_{1}(x),\\ldots,b_{T}(x))),\n",
    "\\end{equation*}\n",
    "где $F:R^T\\to R$ — корректирующая операция,  \n",
    "$C$ — решающее правило,  \n",
    "$b_{t}: X\\to R$ — базовый алгоритм,  \n",
    "$R$ — пространство оценок.  \n",
    "\n",
    "**Задача**: построить алгоритм $a(x)=C(F(b_{1}(x),\\ldots,b_{T}(x)))$, аппроксимирующий целевую зависимость $y$ на всем $X$."
   ]
  },
  {
   "cell_type": "markdown",
   "metadata": {},
   "source": [
    "В качестве корректирующей операции обычно используется простое или взвешенное голосование. Взвешенное: \n",
    "$F(b_{1}(x),\\ldots,b_{T}(x))=\\sum_{t=1}^{T}\\alpha_{t}b_{t}(x)$, $\\alpha_{t}\\in\\mathbb{R}$.  \n",
    "Веса $\\alpha_{t}$ базовых алгоритмов настраиваются по обучающей выборке наряду с остальными параметрами."
   ]
  },
  {
   "cell_type": "markdown",
   "metadata": {},
   "source": [
    "Так как нам сейчас ближе задача классификации, ограничимся далее ее рассмотрением.  \n",
    "\n",
    "Рассмотрим задачу классификации на два класса, $Y = \\{−1, +1\\}$. Допустим, что решающее правило фиксировано, $C(b) = sign(b)$, базовые алгоритмы возвращают ответы в пространстве $R$ (то есть не обязательно -1,0,+1, это просто произвольные оценки степени принадлежности объектов к класссам, которые могут быть вещественными).  \n",
    "\n",
    "\n",
    "Искомая алгоритмическая композиция имеет вид:\n",
    "\\begin{equation*}\n",
    "    a(x) = sign \\left(\\sum_{t=1}^{T} \\alpha_t b_t(x) \\right), \\quad x \\in X.\n",
    "\\end{equation*}"
   ]
  },
  {
   "cell_type": "markdown",
   "metadata": {},
   "source": [
    "Определим функционал качества композиции как число ошибок, допускаемых ею на обучающей выборке:\n",
    "\\begin{equation}\\label{eq_4}\n",
    "    Q_T =\\sum_{i=1}^{n}\\left[y_i \\sum_{t=1}^{T} \\alpha_t b_t(x_i) < 0\\right]\n",
    "    \\to \\min_{\\alpha_{1},\\ldots,\\alpha_{T},b_{1},\\ldots,b_{T}}\n",
    "    .\n",
    "\\end{equation}\n",
    "\n",
    "Функционал $Q_T$ имеет вид суммы по объектам обучающей выборки пороговых функций, имеющих смысл \"текущая композиция ошибается на объекте с номером $i$. Каждое такое слагаемое имеет вид \"ступеньки\" и является разрывной функцией. "
   ]
  },
  {
   "cell_type": "markdown",
   "metadata": {},
   "source": [
    "$\\mathcal{B}(\\Theta) = \\{b(\\cdot;\\theta)|\\theta \\in \\Theta \\}$ —  параметризованное множество базовых алгоритмов.\n",
    "\n",
    "Выбор базового алгоритма: выбор $\\theta \\in \\Theta$ и $b(x)=b(x;\\theta) \\in \\mathcal{B}(\\Theta)$. То есть минимизировать по алгоритму — это минимизировать по параметрам базового алгоритма."
   ]
  },
  {
   "cell_type": "markdown",
   "metadata": {},
   "source": [
    "**Минимизация функционала качества**\n",
    "\n",
    "* Ансамбль строится итеративно, оптимизируя на каждом шаге функционал $Q_t$, равный количеству ошибок текущей композиции на обучающей выборке.\n",
    "* При добавлении слагаемого $\\alpha_t b_t(x)$ в сумму, функционал $Q_t$ оптимизируется только по базовому алгоритму $b_t(x)$ и коэффициенту $\\alpha_t$ при нём, все предыдущие слагаемые считаются фиксированными.\n",
    "\n",
    "* Для упрощения решения задачи оптимизации пороговая функция заменяется на непрерывно дифференцируемую оценку сверху. В итоге получается новый функционал $\\hat{Q}_T \\geqslant Q_T$, минимизация которого приводит к минимизации исходного функционала $Q_T$."
   ]
  },
  {
   "cell_type": "markdown",
   "metadata": {},
   "source": [
    "**Градиентный бустинг для произвольной функции потерь**  \n",
    "\n",
    "$$Q_T \\leq \\tilde {Q}_T =\\sum_{i=1}^{n} \\mathcal{L} \\left(\\sum_{t=1}^{T}\\alpha_{t}b_{t}(x_i),y_{i}\\right) \\to \\min \\limits_{\\alpha, b \\in \\mathcal{B}}.$$\n",
    "\n",
    "Функционал качества с произвольной функцией потерь $\\mathcal{L}(a,y)$ на шаге $T_{0}\\leq T$:\n",
    "\\begin{equation*}\n",
    "\\tilde Q(\\alpha,b;X^{n})=\n",
    "\\sum_{i=1}^{n}\\mathcal{L}\n",
    "(\n",
    "\\underbrace{\n",
    "\\underbrace{\n",
    "\\sum_{t=1}^{T_0-1}\\alpha_{t}b_{t}(x_{i})}_{f_{T_0-1,i}}\n",
    "+\\alpha b(x_{i})}_{f_{T_0,i}}, y_{i}\n",
    ")\n",
    "\\to\\min_{\\alpha,b}.\n",
    "\\end{equation*}\n",
    "\n",
    "\n",
    "$f_{T_0-1}=(f_{T_0-1,i})_{i=1}^{n}$ — текущее приближение  \n",
    "$f_{T_0}=(f_{T_0,i})_{i=1}^{n}$ — следующее приближение"
   ]
  },
  {
   "cell_type": "markdown",
   "metadata": {},
   "source": [
    "Градиентный метод минимизации $\\tilde Q(f)\\to\\min$, $\\mathbb{R}^{n}$:\n",
    "\n",
    "$f_{0}:=$ начальное приближение,\n",
    "\n",
    "$f_{T_0,i}:= f_{T_0-1,i}-\\alpha g_{i}$, $i=1,\\ldots, n$;\n",
    "\n",
    "$g_{i}=\\mathcal{L}^{\\prime}(f_{T_0-1,i},y_{i})$ —  компоненты вектора градиента, $\\alpha$ —  градиентный шаг.\n",
    "\n",
    "Это очень похоже на итерацию бустинга!\n",
    "\n",
    "$f_{T_0,i}:=f_{T_0-1,i}+\\alpha b(x_i),\\quad i=1,\\ldots, n$\n",
    "\n",
    "Идея: будем искать такой базовый алгоритм $b_{T_0}$, чтобы вектор $(b_{T_0}(x_{i}))_{i=1}^{n}$ приближал вектор антиградиента $(-g_i)_{i=1}^{n}$:\n",
    "\\begin{equation*}\n",
    "b_{T_0}:=\\mathrm{argmin}_{b}\\sum_{i=1}^{n}\\left(b(x_{i})+g_{i}\\right)^{2}.\n",
    "\\end{equation*}"
   ]
  },
  {
   "cell_type": "markdown",
   "metadata": {},
   "source": [
    "**Алгоритм градиентного бустинга**\n",
    "\n",
    "Вход: $X^n$, $Y^n$ — обучающая выборка,  \n",
    " $T$ — максимальное число базовых алгоритмов.  \n",
    "Выход: базовые алгоритмы $b_t$ и их веса $\\omega_t$, $t=1,\\ldots,T$.  \n",
    "\n",
    "* Инициализация$f_i:=0,~i=1,\\ldots,n;$   \n",
    "* для всех $t=1,\\ldots,T$  \n",
    "** найти базовый алгоритм, приближающий градиент:  \n",
    "$b_t:=\\mathrm{argmin}_{b \\in \\mathcal{B}} \\sum_{i=1}^{n}{{(b(x_i)+ \\mathcal{L}'(f_i,y_{i}))}^2};$  \n",
    "** решить задачу одномерной минимизации  \n",
    "$\\alpha_{t}:=\\mathrm{argmin}_{\\alpha > 0} \\sum_{i=1}^{n}{ {\\mathcal{L}(f_i+\\alpha b_t(x_i),y_i )}};$  \n",
    "** обновить значения $f_i$ на объектах выборки:  \n",
    "$f_i:=f_i+\\alpha_t b_t(x_i) y_i,~i=1,\\ldots,n.$  \n"
   ]
  },
  {
   "cell_type": "markdown",
   "metadata": {},
   "source": [
    "Данный алгоритм похож на метод градиентного спуска, применяемый для решения задач оптимизации. Основная идея заключается в том, что каждый следующий добавляемый в композицию алгоритм настраивается на остатки предыдущих алгоритмов."
   ]
  },
  {
   "cell_type": "markdown",
   "metadata": {},
   "source": [
    "<h2>Boosting with xgboost"
   ]
  },
  {
   "cell_type": "markdown",
   "metadata": {},
   "source": [
    "Одна из самых популярных библиотек при работе с бустингом -- xgboost. Он реализует алгоритм градиентного бустинга в довольно общем виде. \n",
    "\n",
    "Рассмотрим параметры XGboost. Выделяют три группы параметров:\n",
    "* Общие параметры, отвечающие за базовый алгоритм для бустинга и распараллеливание.\n",
    "* Параметры выбранного базового алгоритма.\n",
    "* Параметры обучения, отвечающие за функцию потерь и метрику качества на валидации.\n",
    "\n",
    "<h4>Общие параметры:</h4>\n",
    "\n",
    "* booster - тип базового алгоритма для бустинга: дерево решений gbtree или линейная модель gblinear, dart.\n",
    "* silent(/verbosity)  - выдавать (silent=0) или нет (silent=1) сообщения по ходу работы алгоритма. (Valid values are 0 (silent) - 3 (debug).)\n",
    "* nthread (/n_jobs)- число нитей доступных для параллельной работы xgboost.\n",
    "\n",
    "<h4>Параметры базового алгоритма:</h4>\n",
    "\n",
    "<h5>Дерево решений:</h5>\n",
    "\n",
    "* eta (/learning_rate) - темп обучения, перед добавлением дерева в композицию оно умножается на eta. Используется для предотвращения переобучения за счёт \"сокращения\" весов базовых алгоритмов, делая модель более консервативной. Чем меньше eta, тем больше нужно итераций num_boost_round для обучения модели с хорошим качеством. Диапазон: $[0, 1]$\n",
    "* gamma - минимальное снижение значения функции потерь, необходимое для дальнейшего разбиения вершины дерева. Большие значения gamma > 0 приводят к более консервативным моделям. Диапазон: $[0, \\infty)$.\n",
    "* max_depth - максимальная глубина дерева. Диапазон: [1, $\\infty$).\n",
    "* min_child_weight - минимальное необходимое (взвешенное) число примеров в каждой вершине. Чем больше, тем более консервативна итоговая модель. Диапазон: $[0, \\infty)$.\n",
    "* max_delta_step - обычно равен нулю. Положительные значения используются при несбалансированных классах для ускорения сходимости. Диапазон $[0, \\infty)$.\n",
    "* scale_pos_weight -- веса классов, используется при несбалансированной выборке. Подавать в виде sum(negative instances) / sum(positive instances). Рекомендуется использовать только если нам не важны вероятности на выходе.  \n",
    "* subsample - доля выборки, используемая для обучения каждого дерева. Если subsample < 1, то выбирается случайная подвыборка, что помогает в борьбе с переобучением. Диапазон: $(0, 1]$\n",
    "* colsample_bytree - доля признаков, используемая для обучения каждого дерева. Диапазон: $(0, 1]$\n",
    "* lambda (/reg_lambda) - коэффициент перед $L_2$-регуляризатором в функции потерь.\n",
    "* alpha (/reg_alpha) - коэффициент перед $L_1$-регуляризатором в функции потерь.\n",
    "\n",
    "Целевая функция для оптимизации в Xgboost состоит из двух слагаемых: специфичной пункции потерь и регуляризатора $\\Omega (f_k)$ для каждого из $T$ деревьев, где $f_t$ - прогноз $t$-ого дерева.\n",
    "\n",
    "$$\n",
    "obj(\\theta) = \\sum_{i=1}^{n} \\mathcal{L}(y_i,\\hat{y_i}) +  \\sum_{t=1}^{T} \\Omega (f_t)\n",
    "$$\n",
    "\n",
    "$$\n",
    "\\Omega(f) = \\gamma K + \\frac{1}{2} \\lambda \\sum_{j=1}^{K}w_j^2\n",
    "$$\n",
    "\n",
    "Первое слагаемое ($\\gamma K$) штрафует модель за большое число листьев $K$, а второе ($\\frac{1}{2} \\lambda \\sum_{j=1}^{K}w_j^2$) контролирует сумму весов модели в листьях.\n",
    "\n",
    "<h5>Линейная модель:</h5>\n",
    "* lambda - коэффициент перед $L_2$-регуляризатором вектора весов в функции потерь.\n",
    "* alpha  - коэффициент перед $L_1$-регуляризатором вектора весов в функции потерь.\n",
    "* lambda_bias - коэффициент перед $L_2$-регуляризатором смещения (свободного члена) в функции потерь.\n",
    "\n",
    "<h4>Параметры задачи обучения:</h4>\n",
    "\n",
    "* objective - используемая при обучении функция потерь ($\\mathcal{L}$):\n",
    "\n",
    "\"reg:linear\" – линейная регрессия.\n",
    "\"reg:logistic\" – логистическая регрессия.\n",
    "\"binary:logistic\" – логистическая регрессия для бинарной классификации, на выходе - вероятность.\n",
    "\"binary:logitraw\" – то же самое, но на выходе - значение до его преобразования логистической функцией.\n",
    "\"count:poisson\" – регрессия Пуассона (используется для оценки числа каких-то событий, счётный признак), на выходе - матожидания распределения Пуассона. В этом случае max_delta_step автоматически устанавливается равным 0.7.\n",
    "\"multi:softmax\" – обобщение логистической регрессии на многоклассовый случай. При этом нужно задать параметр num_class.\n",
    "\"multi:softprob\" – то же самое, но на выходе - вектор размера ndata * nclass, который можно преобразовать в матрицу, содержащую вероятности отнесения данного объекта к данному классу.\n",
    "\"rank:pairwise\" – используется для задач ранжирования.\n",
    "\n",
    "* base_score [default=0.5] - инициализация значения модели для всех примеров, глобальное смещение.\n",
    "* eval_metric [default according to objective] - метрика качества на валидационной выборке (по умолчанию соответствует функции потерь: rmse - для регрессии, error - для классификации, mean average precision - для ранжирования). Выбрать можно одну из следующих метрик:\n",
    "\"rmse\": root mean square error.\n",
    "\"logloss\": минус логарифм правдоподобия.\n",
    "\"error\": доля ошибок для бинарной классификации.\n",
    "\"merror\": то же самое для многоклассовой классификации.\n",
    "\"mlogloss\": logloss для многоклассовой классификации.\n",
    "\"auc\": AUC.\n",
    "\"ndcg\": Normalized Discounted Cumulative Gain.\n",
    "\"map\": Mean average precision.\n",
    "\"ndcg@n\",”map@n”: здесь n - целое число, первые n позиций в списке не учитываются.\n",
    "\"ndcg-\",”map-”,”ndcg@n-”,”map@n-”: списку из всех положительных примеров будет присвоено значение 0 (вместо 1).\n",
    "* seed (/random_state) - для воспроизводимости \"случайности\".\n"
   ]
  },
  {
   "cell_type": "markdown",
   "metadata": {},
   "source": [
    "Эти параметры используются при вызове, например, методов XGBClassifier() и XGBRegressor().  "
   ]
  },
  {
   "cell_type": "markdown",
   "metadata": {},
   "source": [
    "Иногда удобнее использовать метод train (xgboost.train), так как он имеет некоторые дополнительные возможности. (Например, тут можно вводить произвольную функцию потерь и функцию оценки качества).\n",
    "\n",
    "<h4>Параметры в xgboost.train:</h4>\n",
    "\n",
    "* params (dict) – параметры, описанные выше.\n",
    "* dtrain (DMatrix) – обучающая выборка.\n",
    "* num_boost_round (int) – число итераций бустинга.\n",
    "* evals (list) – список для оценки качества во время обучения.\n",
    "* obj (function) – собственная функция потерь.\n",
    "* feval (function) – собственная функция для оценки качества.\n",
    "* maximize (bool) – нужно ли максимизировать feval.\n",
    "* early_stopping_rounds (int) – активирует early stopping. Ошибка на валидации должна уменьшаться каждые early_stopping_rounds итераций для продолжения обучения. Список evals должен быть не пуст. Возвращается модель с последней итерации. Если произошел ранний останов, то модель будет содержать поля: bst.best_score и bst.best_iteration.\n",
    "* evals_result (dict) – результаты оценки качества.\n",
    "* verbose_eval (bool) – вывод значения метрики качества на каждой итерации бустинга.\n",
    "* learning_rates (list or function) – коэффициент скорости обучения для каждой итерации - list l: eta = l[boosting round] - function f: eta = f(boosting round, num_boost_round).\n",
    "* xgb_model (file name of stored xgb model or ‘Booster’ instance) – возможность продолжить обучения имеющейся модели XGB."
   ]
  },
  {
   "cell_type": "code",
   "execution_count": 2,
   "metadata": {},
   "outputs": [],
   "source": [
    "X_train=pd.read_csv('X_train.csv')\n",
    "X_test=pd.read_csv('X_test.csv')\n",
    "y_train=pd.read_csv('y_train.csv',header=None)\n",
    "y_test=pd.read_csv('y_test.csv',header=None)"
   ]
  },
  {
   "cell_type": "code",
   "execution_count": 3,
   "metadata": {},
   "outputs": [],
   "source": [
    "y_train = column_or_1d(y_train, warn=False)\n",
    "y_test=column_or_1d(y_test,warn=False)"
   ]
  },
  {
   "cell_type": "code",
   "execution_count": 4,
   "metadata": {},
   "outputs": [],
   "source": [
    "dtrain = xgb.DMatrix(X_train, y_train)\n",
    "dtest = xgb.DMatrix(X_test, y_test)"
   ]
  },
  {
   "cell_type": "code",
   "execution_count": 6,
   "metadata": {},
   "outputs": [],
   "source": [
    "def Print_Classification_report(estimator, X_train, y_train, X_test, y_test,threshold=0.5):\n",
    "    mod = estimator\n",
    "    mod.fit(X_train, y_train)\n",
    "    predictions = mod.predict_proba(X_test)[:,1]\n",
    "    y_pred = np.int32(np.zeros(len(predictions)))\n",
    "    for i in range(len(y_pred)):\n",
    "        y_pred[i] = predictions[i] > threshold\n",
    "    conf_mat = metrics.confusion_matrix(y_test, y_pred)\n",
    "    conf_mat = pd.DataFrame(conf_mat)\n",
    "    print(\"Confusion matrix: \")\n",
    "    print(conf_mat)\n",
    "    print(\"Classification report: \")\n",
    "    print(classification_report(y_test, y_pred,digits=5))"
   ]
  },
  {
   "cell_type": "code",
   "execution_count": 7,
   "metadata": {},
   "outputs": [],
   "source": [
    "cv5=StratifiedShuffleSplit(n_splits=5,random_state=2)"
   ]
  },
  {
   "cell_type": "markdown",
   "metadata": {},
   "source": [
    "Для начала запустим бустинг с параметрами по умолчанию."
   ]
  },
  {
   "cell_type": "code",
   "execution_count": 8,
   "metadata": {},
   "outputs": [
    {
     "data": {
      "text/plain": [
       "XGBClassifier(base_score=0.5, booster='gbtree', colsample_bylevel=1,\n",
       "              colsample_bynode=1, colsample_bytree=1, gamma=0,\n",
       "              learning_rate=0.1, max_delta_step=0, max_depth=3,\n",
       "              min_child_weight=1, missing=None, n_estimators=100, n_jobs=1,\n",
       "              nthread=None, objective='binary:logistic', random_state=0,\n",
       "              reg_alpha=0, reg_lambda=1, scale_pos_weight=1, seed=None,\n",
       "              silent=None, subsample=1, verbosity=1)"
      ]
     },
     "execution_count": 8,
     "metadata": {},
     "output_type": "execute_result"
    }
   ],
   "source": [
    "model_base = xgb.XGBClassifier()\n",
    "xgb.XGBClassifier()"
   ]
  },
  {
   "cell_type": "markdown",
   "metadata": {},
   "source": [
    "Так как смотреть имеет смысл не на accuracy, a на f1-score, то посмотрим в кросс-валидации именно на него:"
   ]
  },
  {
   "cell_type": "code",
   "execution_count": 9,
   "metadata": {},
   "outputs": [
    {
     "data": {
      "text/plain": [
       "test_accuracy             0.912269\n",
       "test_balanced_accuracy    0.786622\n",
       "test_recall               0.604478\n",
       "test_precision            0.781487\n",
       "test_f1                   0.681163\n",
       "dtype: float64"
      ]
     },
     "execution_count": 9,
     "metadata": {},
     "output_type": "execute_result"
    }
   ],
   "source": [
    "score=cross_validate(model_base,X_train,y_train,scoring=['accuracy','balanced_accuracy','recall','precision','f1'],cv=cv5)#'roc_auc'\n",
    "sc=pd.DataFrame(score).drop(['fit_time','score_time'],axis=1)\n",
    "(pd.DataFrame.from_dict(sc)).mean()"
   ]
  },
  {
   "cell_type": "code",
   "execution_count": 10,
   "metadata": {},
   "outputs": [],
   "source": [
    "#Print_Classification_report(model_base, X_train, y_train, X_test, y_test,0.5)"
   ]
  },
  {
   "cell_type": "markdown",
   "metadata": {},
   "source": [
    "Это, кстати, довольно-таки приличные значения."
   ]
  },
  {
   "cell_type": "markdown",
   "metadata": {},
   "source": [
    "Подберем гиперпараметры. Сперва разберемся с количеством итераций (количеством деревьев)."
   ]
  },
  {
   "cell_type": "code",
   "execution_count": 11,
   "metadata": {},
   "outputs": [],
   "source": [
    "n_trees=[50,75,100,200,250,300,500]\n",
    "scoring_acc=[]\n",
    "scoring_f1=[]\n",
    "for n_tree in n_trees:\n",
    "    estimator=xgb.XGBClassifier(n_estimators=n_tree,max_delta_step = 1,subsample =1,colsample_bytree=1)\n",
    "    score=cross_validate(estimator,X_train,y_train,scoring=['accuracy','f1'],cv=5)\n",
    "    sc=pd.DataFrame(score).drop(['fit_time','score_time'],axis=1)\n",
    "    sc_accuracy=sc.mean()['test_accuracy']\n",
    "    sc_f1=sc.mean()['test_f1']\n",
    "    scoring_acc.append(sc_accuracy)\n",
    "    scoring_f1.append(sc_f1)"
   ]
  },
  {
   "cell_type": "code",
   "execution_count": 12,
   "metadata": {},
   "outputs": [
    {
     "data": {
      "image/png": "[encoded data removed]",
      "text/plain": [
       "<Figure size 432x288 with 1 Axes>"
      ]
     },
     "metadata": {
      "needs_background": "light"
     },
     "output_type": "display_data"
    }
   ],
   "source": [
    "plt.plot(pd.DataFrame(n_trees),scoring_acc)\n",
    "plt.title('CV-accuracy')\n",
    "plt.ylabel('Accuracy')\n",
    "plt.xlabel('n_estimators')\n",
    "plt.show()"
   ]
  },
  {
   "cell_type": "code",
   "execution_count": 13,
   "metadata": {},
   "outputs": [
    {
     "data": {
      "image/png": "[encoded data removed]",
      "text/plain": [
       "<Figure size 432x288 with 1 Axes>"
      ]
     },
     "metadata": {
      "needs_background": "light"
     },
     "output_type": "display_data"
    }
   ],
   "source": [
    "plt.plot(pd.DataFrame(n_trees),scoring_f1)\n",
    "plt.title('CV-F1-score')\n",
    "plt.ylabel('F1-score')\n",
    "plt.xlabel('n_estimators')\n",
    "plt.show()"
   ]
  },
  {
   "cell_type": "markdown",
   "metadata": {},
   "source": [
    "В общем, это все к тому, что мы ограничимся n_estimators=100."
   ]
  },
  {
   "cell_type": "code",
   "execution_count": 14,
   "metadata": {},
   "outputs": [],
   "source": [
    "n_estimators=100"
   ]
  },
  {
   "cell_type": "markdown",
   "metadata": {},
   "source": [
    "Далее подбираем параметры жадно (иначе слишком долго считает). В качестве метрики для оценки качества берем f1 вместо accuracy"
   ]
  },
  {
   "cell_type": "code",
   "execution_count": 15,
   "metadata": {},
   "outputs": [],
   "source": [
    "def Grid_hp(estimator,parameters,X_train,y_train):\n",
    "    gsearch_h = GridSearchCV(estimator,\n",
    "                    param_grid = parameters,n_jobs=4,iid=False, cv=cv5, scoring='f1')\n",
    "    gsearch_h.fit(X_train,y_train)\n",
    "    best_parameters=gsearch_h.best_params_\n",
    "    print('f1-score: ',gsearch_h.best_score_, best_parameters)\n",
    "    return best_parameters"
   ]
  },
  {
   "cell_type": "code",
   "execution_count": 16,
   "metadata": {},
   "outputs": [],
   "source": [
    "def create_model_to_grid(n=100,l_rate=0.1,max_depth_=3,min_child_weight_=1,gamma_=0,reg_l1=0,reg_l2=1,\n",
    "                         colsample=1,subsample_=1,max_delta_step_=1):\n",
    "    model=xgb.XGBClassifier(n_estimators=n,learning_rate=l_rate, objective='binary:logistic',\n",
    "                           max_depth=max_depth_,min_child_weight=min_child_weight_,gamma=gamma_,\n",
    "                           reg_alpha=reg_l1,reg_lambda=reg_l2,colsample_bytree=colsample,\n",
    "                            max_delta_step=max_delta_step_,subsample=subsample_)\n",
    "    return model"
   ]
  },
  {
   "cell_type": "code",
   "execution_count": 17,
   "metadata": {},
   "outputs": [
    {
     "name": "stdout",
     "output_type": "stream",
     "text": [
      "f1-score:  0.6943256178573213 {'learning_rate': 0.08}\n"
     ]
    }
   ],
   "source": [
    "hparams = {\n",
    "    'learning_rate': np.arange(0.01, 0.3, 0.01)\n",
    "}\n",
    "est=create_model_to_grid()\n",
    "best_parameters=Grid_hp(est,hparams,X_train,y_train)"
   ]
  },
  {
   "cell_type": "markdown",
   "metadata": {},
   "source": [
    "best_learning_rate: 0.1. Теперь сразу подбираем max_depth и min_child_weight:"
   ]
  },
  {
   "cell_type": "code",
   "execution_count": 18,
   "metadata": {},
   "outputs": [
    {
     "name": "stdout",
     "output_type": "stream",
     "text": [
      "f1-score:  0.6943256178573213 {'max_depth': 3, 'min_child_weight': 1}\n"
     ]
    }
   ],
   "source": [
    "est.set_params(**best_parameters)\n",
    "hparams = dict(max_depth=range(2,9,1),min_child_weight=range(1,5,1))\n",
    "#hparams['learning_rate']=[0.03]\n",
    "#hparams['max_depth']=range(2,9,1)\n",
    "#hparams['min_child_weight']=range(1,5,1)\n",
    "best_parameters=Grid_hp(est,hparams,X_train,y_train)"
   ]
  },
  {
   "cell_type": "code",
   "execution_count": 19,
   "metadata": {},
   "outputs": [
    {
     "name": "stdout",
     "output_type": "stream",
     "text": [
      "f1-score:  0.6965358735144832 {'gamma': 0.1}\n"
     ]
    }
   ],
   "source": [
    "est.set_params(**best_parameters)\n",
    "hparams = dict(gamma=[i/10.0 for i in range(0,5)])\n",
    "best_parameters=Grid_hp(est,hparams,X_train,y_train)"
   ]
  },
  {
   "cell_type": "code",
   "execution_count": 20,
   "metadata": {},
   "outputs": [
    {
     "name": "stdout",
     "output_type": "stream",
     "text": [
      "f1-score:  0.6965358735144832 {'reg_alpha': 0, 'reg_lambda': 1}\n"
     ]
    }
   ],
   "source": [
    "#hparams['gamma']=[0.3]\n",
    "#hparams['reg_alpha']=[1e-5, 1e-2, 0.1, 1, 100]\n",
    "#hparams['reg_lambda']=[1e-5, 1e-2, 0.1, 1, 100]\n",
    "#best_params=Grid_hp(100,hparams,X_train,y_train)\n",
    "est.set_params(**best_parameters)\n",
    "hparams = dict(reg_alpha=[0,1e-5, 1e-2, 0.1, 1, 10],reg_lambda=[0, 1e-5, 1e-2, 0.1, 1, 10])\n",
    "best_parameters=Grid_hp(est,hparams,X_train,y_train)"
   ]
  },
  {
   "cell_type": "code",
   "execution_count": 21,
   "metadata": {},
   "outputs": [
    {
     "name": "stdout",
     "output_type": "stream",
     "text": [
      "f1-score:  0.6965358735144832 {'colsample_bytree': 1, 'subsample': 1}\n"
     ]
    },
    {
     "data": {
      "text/plain": [
       "XGBClassifier(base_score=0.5, booster='gbtree', colsample_bylevel=1,\n",
       "              colsample_bynode=1, colsample_bytree=1, gamma=0.1,\n",
       "              learning_rate=0.08, max_delta_step=1, max_depth=3,\n",
       "              min_child_weight=1, missing=None, n_estimators=100, n_jobs=1,\n",
       "              nthread=None, objective='binary:logistic', random_state=0,\n",
       "              reg_alpha=0, reg_lambda=1, scale_pos_weight=1, seed=None,\n",
       "              silent=None, subsample=1, verbosity=1)"
      ]
     },
     "execution_count": 21,
     "metadata": {},
     "output_type": "execute_result"
    }
   ],
   "source": [
    "est.set_params(**best_parameters)\n",
    "hparams = dict(colsample_bytree=[0.6,0.8,1],subsample=[0.6,0.8,1])\n",
    "best_parameters=Grid_hp(est,hparams,X_train,y_train)\n",
    "est.set_params(**best_parameters)"
   ]
  },
  {
   "cell_type": "code",
   "execution_count": 22,
   "metadata": {},
   "outputs": [
    {
     "name": "stdout",
     "output_type": "stream",
     "text": [
      "f1-score:  0.7026923198812508 {'scale_pos_weight': 2}\n"
     ]
    },
    {
     "data": {
      "text/plain": [
       "XGBClassifier(base_score=0.5, booster='gbtree', colsample_bylevel=1,\n",
       "              colsample_bynode=1, colsample_bytree=1, gamma=0.1,\n",
       "              learning_rate=0.08, max_delta_step=1, max_depth=3,\n",
       "              min_child_weight=1, missing=None, n_estimators=100, n_jobs=1,\n",
       "              nthread=None, objective='binary:logistic', random_state=0,\n",
       "              reg_alpha=0, reg_lambda=1, scale_pos_weight=2, seed=None,\n",
       "              silent=None, subsample=1, verbosity=1)"
      ]
     },
     "execution_count": 22,
     "metadata": {},
     "output_type": "execute_result"
    }
   ],
   "source": [
    "hparams = dict(scale_pos_weight=[1,2,3])\n",
    "best_parameters=Grid_hp(est,hparams,X_train,y_train)\n",
    "est.set_params(**best_parameters)"
   ]
  },
  {
   "cell_type": "markdown",
   "metadata": {},
   "source": [
    " С параметрами по умолчанию f1-score на кросс-валидации был 0.653, а теперь 0.703.\n",
    "На тренировочных данных при этом:"
   ]
  },
  {
   "cell_type": "code",
   "execution_count": 23,
   "metadata": {},
   "outputs": [
    {
     "name": "stdout",
     "output_type": "stream",
     "text": [
      "Confusion matrix: \n",
      "      0     1\n",
      "0  6820   475\n",
      "1   330  1006\n",
      "Classification report: \n",
      "              precision    recall  f1-score   support\n",
      "\n",
      "         0.0    0.95385   0.93489   0.94427      7295\n",
      "         1.0    0.67927   0.75299   0.71424      1336\n",
      "\n",
      "    accuracy                        0.90673      8631\n",
      "   macro avg    0.81656   0.84394   0.82925      8631\n",
      "weighted avg    0.91134   0.90673   0.90866      8631\n",
      "\n"
     ]
    }
   ],
   "source": [
    "est.fit(X_train,y_train)\n",
    "Print_Classification_report(est,X_train,y_train,X_train,y_train,0.5)\n",
    "#Print_Classification_report(est,X_train,y_train,X_test,y_test,0.5)"
   ]
  },
  {
   "cell_type": "code",
   "execution_count": 24,
   "metadata": {},
   "outputs": [
    {
     "name": "stdout",
     "output_type": "stream",
     "text": [
      "Confusion matrix: \n",
      "      0    1\n",
      "0  2910  217\n",
      "1   151  421\n",
      "Classification report: \n",
      "              precision    recall  f1-score   support\n",
      "\n",
      "         0.0    0.95067   0.93060   0.94053      3127\n",
      "         1.0    0.65987   0.73601   0.69587       572\n",
      "\n",
      "    accuracy                        0.90051      3699\n",
      "   macro avg    0.80527   0.83331   0.81820      3699\n",
      "weighted avg    0.90570   0.90051   0.90270      3699\n",
      "\n"
     ]
    }
   ],
   "source": [
    "Print_Classification_report(est,X_train,y_train,X_test,y_test,0.5)"
   ]
  },
  {
   "cell_type": "code",
   "execution_count": null,
   "metadata": {},
   "outputs": [],
   "source": []
  }
 ],
 "metadata": {
  "kernelspec": {
   "display_name": "Python 3",
   "language": "python",
   "name": "python3"
  },
  "language_info": {
   "codemirror_mode": {
    "name": "ipython",
    "version": 3
   },
   "file_extension": ".py",
   "mimetype": "text/x-python",
   "name": "python",
   "nbconvert_exporter": "python",
   "pygments_lexer": "ipython3",
   "version": "3.7.4"
  }
 },
 "nbformat": 4,
 "nbformat_minor": 2
}
